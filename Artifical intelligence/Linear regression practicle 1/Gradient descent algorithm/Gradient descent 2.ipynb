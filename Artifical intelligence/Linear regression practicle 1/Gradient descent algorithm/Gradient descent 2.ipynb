{
 "cells": [
  {
   "cell_type": "code",
   "execution_count": 1,
   "id": "868c46ee",
   "metadata": {},
   "outputs": [],
   "source": [
    "from sklearn.datasets import make_regression\n",
    "import matplotlib.pyplot as plt \n",
    "import numpy as np "
   ]
  },
  {
   "cell_type": "code",
   "execution_count": 2,
   "id": "7c91d4f6",
   "metadata": {},
   "outputs": [],
   "source": [
    "x,y= make_regression(n_samples=100, n_features=1, n_informative=1, n_targets=1, noise=20)"
   ]
  },
  {
   "cell_type": "code",
   "execution_count": 3,
   "id": "e9eb7383",
   "metadata": {},
   "outputs": [
    {
     "data": {
      "text/plain": [
       "<matplotlib.collections.PathCollection at 0x19c2e117850>"
      ]
     },
     "execution_count": 3,
     "metadata": {},
     "output_type": "execute_result"
    },
    {
     "data": {
      "image/png": "[encoded data removed]",
      "text/plain": [
       "<Figure size 640x480 with 1 Axes>"
      ]
     },
     "metadata": {},
     "output_type": "display_data"
    }
   ],
   "source": [
    "plt.scatter(x,y)"
   ]
  },
  {
   "cell_type": "code",
   "execution_count": 4,
   "id": "dd1308de",
   "metadata": {},
   "outputs": [],
   "source": [
    "from sklearn.linear_model import LinearRegression "
   ]
  },
  {
   "cell_type": "code",
   "execution_count": 5,
   "id": "e62dda74",
   "metadata": {},
   "outputs": [
    {
     "data": {
      "text/html": [
       "<style>#sk-container-id-1 {color: black;}#sk-container-id-1 pre{padding: 0;}#sk-container-id-1 div.sk-toggleable {background-color: white;}#sk-container-id-1 label.sk-toggleable__label {cursor: pointer;display: block;width: 100%;margin-bottom: 0;padding: 0.3em;box-sizing: border-box;text-align: center;}#sk-container-id-1 label.sk-toggleable__label-arrow:before {content: \"▸\";float: left;margin-right: 0.25em;color: #696969;}#sk-container-id-1 label.sk-toggleable__label-arrow:hover:before {color: black;}#sk-container-id-1 div.sk-estimator:hover label.sk-toggleable__label-arrow:before {color: black;}#sk-container-id-1 div.sk-toggleable__content {max-height: 0;max-width: 0;overflow: hidden;text-align: left;background-color: #f0f8ff;}#sk-container-id-1 div.sk-toggleable__content pre {margin: 0.2em;color: black;border-radius: 0.25em;background-color: #f0f8ff;}#sk-container-id-1 input.sk-toggleable__control:checked~div.sk-toggleable__content {max-height: 200px;max-width: 100%;overflow: auto;}#sk-container-id-1 input.sk-toggleable__control:checked~label.sk-toggleable__label-arrow:before {content: \"▾\";}#sk-container-id-1 div.sk-estimator input.sk-toggleable__control:checked~label.sk-toggleable__label {background-color: #d4ebff;}#sk-container-id-1 div.sk-label input.sk-toggleable__control:checked~label.sk-toggleable__label {background-color: #d4ebff;}#sk-container-id-1 input.sk-hidden--visually {border: 0;clip: rect(1px 1px 1px 1px);clip: rect(1px, 1px, 1px, 1px);height: 1px;margin: -1px;overflow: hidden;padding: 0;position: absolute;width: 1px;}#sk-container-id-1 div.sk-estimator {font-family: monospace;background-color: #f0f8ff;border: 1px dotted black;border-radius: 0.25em;box-sizing: border-box;margin-bottom: 0.5em;}#sk-container-id-1 div.sk-estimator:hover {background-color: #d4ebff;}#sk-container-id-1 div.sk-parallel-item::after {content: \"\";width: 100%;border-bottom: 1px solid gray;flex-grow: 1;}#sk-container-id-1 div.sk-label:hover label.sk-toggleable__label {background-color: #d4ebff;}#sk-container-id-1 div.sk-serial::before {content: \"\";position: absolute;border-left: 1px solid gray;box-sizing: border-box;top: 0;bottom: 0;left: 50%;z-index: 0;}#sk-container-id-1 div.sk-serial {display: flex;flex-direction: column;align-items: center;background-color: white;padding-right: 0.2em;padding-left: 0.2em;position: relative;}#sk-container-id-1 div.sk-item {position: relative;z-index: 1;}#sk-container-id-1 div.sk-parallel {display: flex;align-items: stretch;justify-content: center;background-color: white;position: relative;}#sk-container-id-1 div.sk-item::before, #sk-container-id-1 div.sk-parallel-item::before {content: \"\";position: absolute;border-left: 1px solid gray;box-sizing: border-box;top: 0;bottom: 0;left: 50%;z-index: -1;}#sk-container-id-1 div.sk-parallel-item {display: flex;flex-direction: column;z-index: 1;position: relative;background-color: white;}#sk-container-id-1 div.sk-parallel-item:first-child::after {align-self: flex-end;width: 50%;}#sk-container-id-1 div.sk-parallel-item:last-child::after {align-self: flex-start;width: 50%;}#sk-container-id-1 div.sk-parallel-item:only-child::after {width: 0;}#sk-container-id-1 div.sk-dashed-wrapped {border: 1px dashed gray;margin: 0 0.4em 0.5em 0.4em;box-sizing: border-box;padding-bottom: 0.4em;background-color: white;}#sk-container-id-1 div.sk-label label {font-family: monospace;font-weight: bold;display: inline-block;line-height: 1.2em;}#sk-container-id-1 div.sk-label-container {text-align: center;}#sk-container-id-1 div.sk-container {/* jupyter's `normalize.less` sets `[hidden] { display: none; }` but bootstrap.min.css set `[hidden] { display: none !important; }` so we also need the `!important` here to be able to override the default hidden behavior on the sphinx rendered scikit-learn.org. See: https://github.com/scikit-learn/scikit-learn/issues/21755 */display: inline-block !important;position: relative;}#sk-container-id-1 div.sk-text-repr-fallback {display: none;}</style><div id=\"sk-container-id-1\" class=\"sk-top-container\"><div class=\"sk-text-repr-fallback\"><pre>LinearRegression()</pre><b>In a Jupyter environment, please rerun this cell to show the HTML representation or trust the notebook. <br />On GitHub, the HTML representation is unable to render, please try loading this page with nbviewer.org.</b></div><div class=\"sk-container\" hidden><div class=\"sk-item\"><div class=\"sk-estimator sk-toggleable\"><input class=\"sk-toggleable__control sk-hidden--visually\" id=\"sk-estimator-id-1\" type=\"checkbox\" checked><label for=\"sk-estimator-id-1\" class=\"sk-toggleable__label sk-toggleable__label-arrow\">LinearRegression</label><div class=\"sk-toggleable__content\"><pre>LinearRegression()</pre></div></div></div></div></div>"
      ],
      "text/plain": [
       "LinearRegression()"
      ]
     },
     "execution_count": 5,
     "metadata": {},
     "output_type": "execute_result"
    }
   ],
   "source": [
    "reg= LinearRegression()       # object create here \n",
    "reg.fit(x,y)"
   ]
  },
  {
   "cell_type": "code",
   "execution_count": 6,
   "id": "0a9cff80",
   "metadata": {},
   "outputs": [
    {
     "data": {
      "text/plain": [
       "array([87.29150662])"
      ]
     },
     "execution_count": 6,
     "metadata": {},
     "output_type": "execute_result"
    }
   ],
   "source": [
    "reg.coef_"
   ]
  },
  {
   "cell_type": "code",
   "execution_count": 7,
   "id": "e2ddd05d",
   "metadata": {},
   "outputs": [
    {
     "data": {
      "text/plain": [
       "-2.6869145259054203"
      ]
     },
     "execution_count": 7,
     "metadata": {},
     "output_type": "execute_result"
    }
   ],
   "source": [
    "reg.intercept_ "
   ]
  },
  {
   "cell_type": "code",
   "execution_count": 8,
   "id": "d16cc394",
   "metadata": {},
   "outputs": [],
   "source": [
    "m = 29.19"
   ]
  },
  {
   "cell_type": "code",
   "execution_count": 28,
   "id": "92ea366d",
   "metadata": {},
   "outputs": [],
   "source": [
    "class GDReggression:\n",
    "# constructor\n",
    "    def __init__(self, learning_rate, epochs):\n",
    "        self.m = 29.19\n",
    "        self.b = -120\n",
    "        self.lr = learning_rate \n",
    "        self.epochs = epochs\n",
    "        \n",
    "    def fit(self,x,y):\n",
    "        \n",
    "        # calculate b using GD\n",
    "        for i in range (self.epochs):\n",
    "            slope_1 = -2 * np.sum(y-self.m*x.ravel()-self.b)\n",
    "            self.b = self.b - (self.lr * slope_1)\n",
    "            print(slope_1, self.b)\n",
    "        print (self.b)\n",
    "                \n",
    "    "
   ]
  },
  {
   "cell_type": "code",
   "execution_count": 29,
   "id": "ab7dd8f2",
   "metadata": {},
   "outputs": [],
   "source": [
    "gd = GDReggression (0.001, 100)"
   ]
  },
  {
   "cell_type": "code",
   "execution_count": 30,
   "id": "3d00c1b0",
   "metadata": {},
   "outputs": [
    {
     "name": "stdout",
     "output_type": "stream",
     "text": [
      "-25684.9895997483 -94.31501040025171\n",
      "-20547.991679798644 -73.76701872045307\n",
      "-16438.393343838918 -57.32862537661415\n",
      "-13150.71467507113 -44.17791070154302\n",
      "-10520.571740056905 -33.65733896148612\n",
      "-8416.457392045526 -25.240881569440592\n",
      "-6733.165913636421 -18.507715655804173\n",
      "-5386.532730909136 -13.121182924895036\n",
      "-4309.2261847273085 -8.811956740167727\n",
      "-3447.380947781847 -5.36457579238588\n",
      "-2757.904758225478 -2.606671034160402\n",
      "-2206.323806580382 -0.4003472275800197\n",
      "-1765.059045264306 1.3647118176842863\n",
      "-1412.0472362114447 2.7767590538957307\n",
      "-1129.637788969156 3.9063968428648868\n",
      "-903.7102311753241 4.810107074040211\n",
      "-722.9681849402593 5.53307525898047\n",
      "-578.3745479522076 6.1114498069326775\n",
      "-462.6996383617661 6.574149445294443\n",
      "-370.15971068941343 6.944309155983857\n",
      "-296.12776855153027 7.240436924535387\n",
      "-236.90221484122426 7.477339139376611\n",
      "-189.5217718729797 7.666860911249591\n",
      "-151.61741749838382 7.818478328747975\n",
      "-121.29393399870692 7.939772262746683\n",
      "-97.03514719896495 8.036807409945647\n",
      "-77.62811775917223 8.114435527704819\n",
      "-62.10249420733818 8.176538021912156\n",
      "-49.68199536587049 8.226220017278028\n",
      "-39.745596292696476 8.265965613570724\n",
      "-31.796477034156595 8.29776209060488\n",
      "-25.437181627325984 8.323199272232207\n",
      "-20.349745301860438 8.343549017534068\n",
      "-16.279796241488015 8.359828813775556\n",
      "-13.023836993190812 8.372852650768747\n",
      "-10.419069594552184 8.3832717203633\n",
      "-8.335255675642046 8.391606976038942\n",
      "-6.668204540513528 8.398275180579455\n",
      "-5.334563632410621 8.403609744211867\n",
      "-4.267650905928761 8.407877395117795\n",
      "-3.414120724742858 8.411291515842539\n",
      "-2.731296579794119 8.414022812422333\n",
      "-2.1850372638353264 8.416207849686169\n",
      "-1.748029811067667 8.417955879497237\n",
      "-1.398423848854108 8.419354303346092\n",
      "-1.11873907908317 8.420473042425174\n",
      "-0.8949912632673858 8.421368033688442\n",
      "-0.7159930106136727 8.422084026699055\n",
      "-0.5727944084908785 8.422656821107546\n",
      "-0.45823552679210877 8.42311505663434\n",
      "-0.36658842143366144 8.423481645055773\n",
      "-0.29327073714738816 8.42377491579292\n",
      "-0.23461658971795885 8.42400953238264\n",
      "-0.1876932717737816 8.424197225654414\n",
      "-0.15015461741931801 8.424347380271833\n",
      "-0.12012369393539046 8.424467503965769\n",
      "-0.09609895514799405 8.424563602920916\n",
      "-0.07687916411892104 8.424640482085035\n",
      "-0.061503331294460395 8.424701985416329\n",
      "-0.049202665035736004 8.424751188081364\n",
      "-0.03936213202908334 8.424790550213393\n",
      "-0.031489705623215514 8.424822039919016\n",
      "-0.025191764498302405 8.424847231683515\n",
      "-0.020153411599032722 8.424867385095114\n",
      "-0.016122729279274495 8.424883507824394\n",
      "-0.012898183423274645 8.424896406007816\n",
      "-0.01031854673837529 8.424906724554555\n",
      "-0.008254837390680336 8.424914979391946\n",
      "-0.006603869912808591 8.42492158326186\n",
      "-0.005283095929570436 8.424926866357788\n",
      "-0.004226476743824037 8.424931092834532\n",
      "-0.0033811813955537673 8.424934474015927\n",
      "-0.002704945116697388 8.424937178961043\n",
      "-0.002163956092999797 8.424939342917137\n",
      "-0.001731164874357205 8.42494107408201\n",
      "-0.00138493189965061 8.42494245901391\n",
      "-0.0011079455202462896 8.42494356695943\n",
      "-0.0008863564160463966 8.424944453315845\n",
      "-0.0007090851328186432 8.424945162400977\n",
      "-0.0005672681066215546 8.424945729669084\n",
      "-0.0004538144852332948 8.424946183483568\n",
      "-0.00036305158801042126 8.424946546535157\n",
      "-0.00029044127067834324 8.424946836976428\n",
      "-0.00023235301588897528 8.424947069329443\n",
      "-0.0001858824128788683 8.424947255211857\n",
      "-0.00014870593018656564 8.424947403917786\n",
      "-0.00011896474499906162 8.424947522882531\n",
      "-9.517179532281261e-05 8.424947618054327\n",
      "-7.61374362383549e-05 8.424947694191763\n",
      "-6.0909949326060087e-05 8.424947755101712\n",
      "-4.872795971522237e-05 8.424947803829673\n",
      "-3.89823675561729e-05 8.42494784281204\n",
      "-3.118589354755841e-05 8.424947873997933\n",
      "-2.494871509384211e-05 8.424947898946648\n",
      "-1.9958972295341937e-05 8.424947918905621\n",
      "-1.596717768848066e-05 8.4249479348728\n",
      "-1.2773741744354083e-05 8.42494794764654\n",
      "-1.0218993651278652e-05 8.424947957865534\n",
      "-8.17519514129117e-06 8.42494796604073\n",
      "-6.54015579470979e-06 8.424947972580885\n",
      "8.424947972580885\n"
     ]
    }
   ],
   "source": [
    "gd.fit(x,y)"
   ]
  },
  {
   "cell_type": "code",
   "execution_count": null,
   "id": "48502af6",
   "metadata": {},
   "outputs": [],
   "source": []
  },
  {
   "cell_type": "code",
   "execution_count": null,
   "id": "d2d00524",
   "metadata": {},
   "outputs": [],
   "source": []
  }
 ],
 "metadata": {
  "kernelspec": {
   "display_name": "Python 3 (ipykernel)",
   "language": "python",
   "name": "python3"
  },
  "language_info": {
   "codemirror_mode": {
    "name": "ipython",
    "version": 3
   },
   "file_extension": ".py",
   "mimetype": "text/x-python",
   "name": "python",
   "nbconvert_exporter": "python",
   "pygments_lexer": "ipython3",
   "version": "3.11.5"
  }
 },
 "nbformat": 4,
 "nbformat_minor": 5
}
